{
 "cells": [
  {
   "cell_type": "code",
   "execution_count": null,
   "id": "671a8796",
   "metadata": {},
   "outputs": [],
   "source": []
  },
  {
   "cell_type": "code",
   "execution_count": null,
   "id": "2c9bc0fc",
   "metadata": {},
   "outputs": [],
   "source": []
  },
  {
   "cell_type": "code",
   "execution_count": 3,
   "id": "b5380ff8",
   "metadata": {},
   "outputs": [
    {
     "name": "stdout",
     "output_type": "stream",
     "text": [
      "Data 20529\n",
      "train: 100%|████████████████████████████| 20529/20529 [25:22<00:00, 13.49it/s]\n",
      "./data/compact4/train written 20529\n",
      "./data/train.csv written 20529\n"
     ]
    }
   ],
   "source": [
    "!python3 src/script/prepare.py train"
   ]
  },
  {
   "cell_type": "code",
   "execution_count": 4,
   "id": "e039b336",
   "metadata": {},
   "outputs": [
    {
     "name": "stdout",
     "output_type": "stream",
     "text": [
      "Data 1856\n",
      "validation: 100%|█████████████████████████| 1856/1856 [00:58<00:00, 31.90it/s]\n",
      "./data/compact4/validation written 1856\n",
      "./data/validation.csv written 1856\n"
     ]
    }
   ],
   "source": [
    "!python3 src/script/prepare.py validation"
   ]
  },
  {
   "cell_type": "code",
   "execution_count": null,
   "id": "02930f12",
   "metadata": {},
   "outputs": [],
   "source": []
  },
  {
   "cell_type": "code",
   "execution_count": 11,
   "id": "354cc876",
   "metadata": {},
   "outputs": [
    {
     "name": "stdout",
     "output_type": "stream",
     "text": [
      "Data 20529 1856\n",
      "folds [5, 7] / 10\n",
      "weight_decay 0.01\n",
      "val threshold 0.45 0.45\n",
      "batch size 3 x accumulate 2\n",
      "Encoder channels: maxvit_tiny_tf_512.in1k [64, 64, 128, 256, 512]\n",
      "Decoder channels: [256, 128, 64, 32, 32]\n",
      "40 epochs\n",
      "KFold 5/10\n",
      "Epoch        loss          dice  score         lr       time\n",
      "Epoch  1.00  0.851  0.243  0.265 0.486 0.443  8.0e-04   9.5 122.8 min\n",
      "^C\n"
     ]
    }
   ],
   "source": [
    "#!python3 src/unet1024/evaluate.py src/unet1024/unet1024.yml \n",
    "!python3 src/vit4/evaluate.py src/vit4/vit4_1024.yml"
   ]
  },
  {
   "cell_type": "code",
   "execution_count": null,
   "id": "9bef6897",
   "metadata": {},
   "outputs": [],
   "source": []
  }
 ],
 "metadata": {
  "kernelspec": {
   "display_name": "Python 3 (ipykernel)",
   "language": "python",
   "name": "python3"
  },
  "language_info": {
   "codemirror_mode": {
    "name": "ipython",
    "version": 3
   },
   "file_extension": ".py",
   "mimetype": "text/x-python",
   "name": "python",
   "nbconvert_exporter": "python",
   "pygments_lexer": "ipython3",
   "version": "3.8.17"
  }
 },
 "nbformat": 4,
 "nbformat_minor": 5
}
